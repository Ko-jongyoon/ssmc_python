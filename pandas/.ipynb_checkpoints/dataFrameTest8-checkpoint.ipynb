{
 "cells": [
  {
   "cell_type": "code",
   "execution_count": 9,
   "metadata": {},
   "outputs": [],
   "source": [
    "import pandas as pd\n",
    "import numpy as np"
   ]
  },
  {
   "cell_type": "code",
   "execution_count": 10,
   "metadata": {},
   "outputs": [
    {
     "data": {
      "text/html": [
       "<div>\n",
       "<style scoped>\n",
       "    .dataframe tbody tr th:only-of-type {\n",
       "        vertical-align: middle;\n",
       "    }\n",
       "\n",
       "    .dataframe tbody tr th {\n",
       "        vertical-align: top;\n",
       "    }\n",
       "\n",
       "    .dataframe thead th {\n",
       "        text-align: right;\n",
       "    }\n",
       "</style>\n",
       "<table border=\"1\" class=\"dataframe\">\n",
       "  <thead>\n",
       "    <tr style=\"text-align: right;\">\n",
       "      <th></th>\n",
       "      <th>kor</th>\n",
       "      <th>eng</th>\n",
       "      <th>math</th>\n",
       "    </tr>\n",
       "  </thead>\n",
       "  <tbody>\n",
       "    <tr>\n",
       "      <th>aa</th>\n",
       "      <td>80</td>\n",
       "      <td>20</td>\n",
       "      <td>33</td>\n",
       "    </tr>\n",
       "    <tr>\n",
       "      <th>bb</th>\n",
       "      <td>30</td>\n",
       "      <td>90</td>\n",
       "      <td>44</td>\n",
       "    </tr>\n",
       "    <tr>\n",
       "      <th>cc</th>\n",
       "      <td>50</td>\n",
       "      <td>90</td>\n",
       "      <td>55</td>\n",
       "    </tr>\n",
       "    <tr>\n",
       "      <th>dd</th>\n",
       "      <td>70</td>\n",
       "      <td>80</td>\n",
       "      <td>66</td>\n",
       "    </tr>\n",
       "  </tbody>\n",
       "</table>\n",
       "</div>"
      ],
      "text/plain": [
       "    kor  eng  math\n",
       "aa   80   20    33\n",
       "bb   30   90    44\n",
       "cc   50   90    55\n",
       "dd   70   80    66"
      ]
     },
     "execution_count": 10,
     "metadata": {},
     "output_type": "execute_result"
    }
   ],
   "source": [
    "data={'kor':[80,30,50,70],'eng':[20,90,90,80],\n",
    "     'math':[33,44,55,66]}  #키값이 리스트인 경우\n",
    "df =pd.DataFrame(data,index=['aa','bb','cc','dd'])\n",
    "df"
   ]
  },
  {
   "cell_type": "code",
   "execution_count": 11,
   "metadata": {},
   "outputs": [],
   "source": [
    "def fn(v):\n",
    "    print('===')\n",
    "    print(v)\n",
    "    return v.sum()\n",
    "   # return v[0] #v['aa'] \n",
    "#v 는 시리즈다 각 col"
   ]
  },
  {
   "cell_type": "code",
   "execution_count": 12,
   "metadata": {},
   "outputs": [
    {
     "name": "stdout",
     "output_type": "stream",
     "text": [
      "===\n",
      "aa    80\n",
      "bb    30\n",
      "cc    50\n",
      "dd    70\n",
      "Name: kor, dtype: int64\n",
      "===\n",
      "aa    20\n",
      "bb    90\n",
      "cc    90\n",
      "dd    80\n",
      "Name: eng, dtype: int64\n",
      "===\n",
      "aa    33\n",
      "bb    44\n",
      "cc    55\n",
      "dd    66\n",
      "Name: math, dtype: int64\n"
     ]
    },
    {
     "data": {
      "text/plain": [
       "kor     230\n",
       "eng     280\n",
       "math    198\n",
       "dtype: int64"
      ]
     },
     "execution_count": 12,
     "metadata": {},
     "output_type": "execute_result"
    }
   ],
   "source": [
    "df.apply(fn)"
   ]
  },
  {
   "cell_type": "code",
   "execution_count": 22,
   "metadata": {},
   "outputs": [],
   "source": [
    "def fn1(v):\n",
    "    print('===')\n",
    "    print(v)\n",
    "    return v.sum()\n",
    "#     return v[0]"
   ]
  },
  {
   "cell_type": "code",
   "execution_count": null,
   "metadata": {},
   "outputs": [],
   "source": []
  },
  {
   "cell_type": "code",
   "execution_count": 23,
   "metadata": {},
   "outputs": [
    {
     "data": {
      "text/plain": [
       "kor     230\n",
       "eng     280\n",
       "math    198\n",
       "dtype: int64"
      ]
     },
     "execution_count": 23,
     "metadata": {},
     "output_type": "execute_result"
    }
   ],
   "source": [
    "# df.apply(fn)\n",
    "df.apply( lambda v:v.sum())\n"
   ]
  },
  {
   "cell_type": "code",
   "execution_count": 26,
   "metadata": {},
   "outputs": [
    {
     "data": {
      "text/plain": [
       "aa    이상\n",
       "bb    이하\n",
       "cc    이상\n",
       "dd    이상\n",
       "dtype: object"
      ]
     },
     "execution_count": 26,
     "metadata": {},
     "output_type": "execute_result"
    }
   ],
   "source": [
    "df.apply( lambda v:\"이상\" if v[0]>=50 else '이하', axis=1)"
   ]
  },
  {
   "cell_type": "code",
   "execution_count": 28,
   "metadata": {},
   "outputs": [
    {
     "data": {
      "text/plain": [
       "aa    133\n",
       "bb    164\n",
       "cc    195\n",
       "dd    216\n",
       "dtype: int64"
      ]
     },
     "execution_count": 28,
     "metadata": {},
     "output_type": "execute_result"
    }
   ],
   "source": [
    "#df.apply( fn1, axis=1)\n",
    "df.apply( lambda v:v.sum(),axis=1)"
   ]
  },
  {
   "cell_type": "code",
   "execution_count": 31,
   "metadata": {},
   "outputs": [
    {
     "name": "stdout",
     "output_type": "stream",
     "text": [
      "kor\n",
      "eng\n",
      "math\n"
     ]
    }
   ],
   "source": [
    "for n in df:\n",
    "    print(n)"
   ]
  },
  {
   "cell_type": "code",
   "execution_count": null,
   "metadata": {},
   "outputs": [],
   "source": [
    "d={'aa':10, 'bb':20}\n",
    "print( '%(aa)d%(bb)d'%d)"
   ]
  },
  {
   "cell_type": "code",
   "execution_count": 38,
   "metadata": {},
   "outputs": [
    {
     "name": "stdout",
     "output_type": "stream",
     "text": [
      "kor 80 30 50\n",
      "kor 80 30 50\n",
      "kor 80 30 50\n",
      "eng 20 90 90\n",
      "eng 20 90 90\n",
      "eng 20 90 90\n",
      "math 33 44 55\n",
      "math 33 44 55\n",
      "math 33 44 55\n"
     ]
    }
   ],
   "source": [
    "for idx, v in df.items():\n",
    "    print(idx,'%d %d %d'%(v[0],v[1],v[2]))  # 튜플 첫번째 col명 , 두번째는 시리즈\n",
    "    print(idx, '%d %d %d'%(v['aa'],v['bb'],v['cc']))\n",
    "    print(idx,'%(aa)d %(bb)d %(cc)d'%v)"
   ]
  },
  {
   "cell_type": "code",
   "execution_count": 43,
   "metadata": {},
   "outputs": [
    {
     "name": "stdout",
     "output_type": "stream",
     "text": [
      "aa 80 20 33 \n",
      "aa 80 20 33\n",
      "bb 30 90 44 \n",
      "bb 30 90 44\n",
      "cc 50 90 55 \n",
      "cc 50 90 55\n",
      "dd 70 80 66 \n",
      "dd 70 80 66\n"
     ]
    }
   ],
   "source": [
    "for idx,v in df.iterrows():\n",
    "    print(idx,'%d %d %d '%(v[0],v[1],v[2]))\n",
    "    #print(idx, '%d %d %d'%(v['kor'],v['eng'],v['math']))"
   ]
  },
  {
   "cell_type": "code",
   "execution_count": null,
   "metadata": {},
   "outputs": [],
   "source": []
  }
 ],
 "metadata": {
  "kernelspec": {
   "display_name": "Python 3",
   "language": "python",
   "name": "python3"
  },
  "language_info": {
   "codemirror_mode": {
    "name": "ipython",
    "version": 3
   },
   "file_extension": ".py",
   "mimetype": "text/x-python",
   "name": "python",
   "nbconvert_exporter": "python",
   "pygments_lexer": "ipython3",
   "version": "3.7.1"
  }
 },
 "nbformat": 4,
 "nbformat_minor": 2
}
