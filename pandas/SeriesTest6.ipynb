{
 "cells": [
  {
   "cell_type": "code",
   "execution_count": 21,
   "metadata": {},
   "outputs": [],
   "source": [
    "import pandas as pd\n",
    "import numpy as np"
   ]
  },
  {
   "cell_type": "code",
   "execution_count": 22,
   "metadata": {},
   "outputs": [
    {
     "data": {
      "text/plain": [
       "aa     10\n",
       "cc    200\n",
       "dd     30\n",
       "bb     40\n",
       "dtype: int64"
      ]
     },
     "execution_count": 22,
     "metadata": {},
     "output_type": "execute_result"
    }
   ],
   "source": [
    "sr=pd.Series([10,200,30,40], index=['aa','cc','dd','bb'])\n",
    "sr "
   ]
  },
  {
   "cell_type": "code",
   "execution_count": 14,
   "metadata": {},
   "outputs": [
    {
     "data": {
      "text/plain": [
       "aa     10\n",
       "cc    200\n",
       "dd     30\n",
       "bb     40\n",
       "ee     50\n",
       "dtype: int64"
      ]
     },
     "execution_count": 14,
     "metadata": {},
     "output_type": "execute_result"
    }
   ],
   "source": [
    "#추가\n",
    "sr['ee'] = 50 # 인덱스와 값 추가 , 있으면 수정이되고 없으면 추가가된다.\n",
    "sr"
   ]
  },
  {
   "cell_type": "code",
   "execution_count": 15,
   "metadata": {},
   "outputs": [
    {
     "data": {
      "text/plain": [
       "aa     10\n",
       "cc    200\n",
       "dd     30\n",
       "bb     40\n",
       "ee     50\n",
       "ff      1\n",
       "gg      2\n",
       "hh      3\n",
       "dtype: int64"
      ]
     },
     "execution_count": 15,
     "metadata": {},
     "output_type": "execute_result"
    }
   ],
   "source": [
    "# 추가\n",
    "sr = sr.append( pd.Series([1,2,3],index=['ff','gg','hh']) )  # append 된 새로운 시리즈 객체를 반환한다 때문에 변수로 받아줘야한다\n",
    "sr"
   ]
  },
  {
   "cell_type": "code",
   "execution_count": 16,
   "metadata": {},
   "outputs": [
    {
     "data": {
      "text/plain": [
       "aa     10\n",
       "cc    200\n",
       "dd     30\n",
       "bb     40\n",
       "ee     50\n",
       "ff      1\n",
       "gg      2\n",
       "hh      3\n",
       "dtype: int64"
      ]
     },
     "execution_count": 16,
     "metadata": {},
     "output_type": "execute_result"
    }
   ],
   "source": [
    "#삭제\n",
    "sr = sr[ sr!=20 ]   # 20이 삭제 된다.\n",
    "sr"
   ]
  },
  {
   "cell_type": "code",
   "execution_count": 17,
   "metadata": {},
   "outputs": [
    {
     "data": {
      "text/plain": [
       "cc    200\n",
       "dd     30\n",
       "bb     40\n",
       "ee     50\n",
       "ff      1\n",
       "gg      2\n",
       "hh      3\n",
       "dtype: int64"
      ]
     },
     "execution_count": 17,
     "metadata": {},
     "output_type": "execute_result"
    }
   ],
   "source": [
    "#sr = sr.drop('aa') # drop은 인덱스를 통한 삭제 이것또한 시리즈 객체를 반환하기 때문에 sr로 받아줘야한다\n",
    "sr.drop('aa', inplace=True )   # inplace=True 시리즈 자체가 삭제 또는 변화가 일어난다.\n",
    "sr"
   ]
  },
  {
   "cell_type": "code",
   "execution_count": 20,
   "metadata": {},
   "outputs": [
    {
     "data": {
      "text/plain": [
       "dd    30\n",
       "bb    40\n",
       "dtype: int64"
      ]
     },
     "execution_count": 20,
     "metadata": {},
     "output_type": "execute_result"
    }
   ],
   "source": [
    "sr.drop(['aa','cc'],inplace=True)\n",
    "sr"
   ]
  },
  {
   "cell_type": "code",
   "execution_count": 23,
   "metadata": {},
   "outputs": [
    {
     "data": {
      "text/plain": [
       "cc    200\n",
       "dd     30\n",
       "bb     40\n",
       "dtype: int64"
      ]
     },
     "execution_count": 23,
     "metadata": {},
     "output_type": "execute_result"
    }
   ],
   "source": [
    "del(sr['aa']) # del(sr['aa':'cc'])\n",
    "sr"
   ]
  },
  {
   "cell_type": "code",
   "execution_count": 95,
   "metadata": {},
   "outputs": [
    {
     "data": {
      "text/plain": [
       "cc    200\n",
       "ee     50\n",
       "bb     40\n",
       "dd     30\n",
       "hh      3\n",
       "gg      2\n",
       "ff      1\n",
       "dtype: int64"
      ]
     },
     "execution_count": 95,
     "metadata": {},
     "output_type": "execute_result"
    }
   ],
   "source": [
    "#sr.sort_index()\n",
    "#sr.sort_index( ascending =False)\n",
    "sr.sort_values( ascending =False)\n"
   ]
  },
  {
   "cell_type": "code",
   "execution_count": 105,
   "metadata": {},
   "outputs": [
    {
     "data": {
      "text/plain": [
       "ab    applei\n",
       "cd      kixi\n",
       "ef    banana\n",
       "gh     apply\n",
       "dtype: object"
      ]
     },
     "execution_count": 105,
     "metadata": {},
     "output_type": "execute_result"
    }
   ],
   "source": [
    "sr1 = pd.Series(['applei','kixi','banana','apply'])\n",
    "sr1.index =['ab','cd','ef','gh']\n",
    "sr1"
   ]
  },
  {
   "cell_type": "code",
   "execution_count": 97,
   "metadata": {},
   "outputs": [
    {
     "data": {
      "text/plain": [
       "ab    applei\n",
       "gh     apply\n",
       "dtype: object"
      ]
     },
     "execution_count": 97,
     "metadata": {},
     "output_type": "execute_result"
    }
   ],
   "source": [
    "#sr1.str.contains('apple')  # true, false 반환\n",
    "sr1[sr1.str.contains('app')] #  인덱스와 값 반환"
   ]
  },
  {
   "cell_type": "code",
   "execution_count": 98,
   "metadata": {},
   "outputs": [
    {
     "data": {
      "text/plain": [
       "ab    applei\n",
       "cd      kixi\n",
       "dtype: object"
      ]
     },
     "execution_count": 98,
     "metadata": {},
     "output_type": "execute_result"
    }
   ],
   "source": [
    "\n",
    "sr1[sr1.str.contains('[a-z]i', regex=True) ]  # 정규식 패턴"
   ]
  },
  {
   "cell_type": "code",
   "execution_count": 99,
   "metadata": {},
   "outputs": [
    {
     "data": {
      "text/plain": [
       "0    김철수\n",
       "1    이순신\n",
       "2     이이\n",
       "3     이황\n",
       "4    김이ㅁ\n",
       "dtype: object"
      ]
     },
     "execution_count": 99,
     "metadata": {},
     "output_type": "execute_result"
    }
   ],
   "source": [
    "sr2 = pd.Series(['김철수','이순신','이이','이황','김이','박김이'])\n",
    "sr2"
   ]
  },
  {
   "cell_type": "code",
   "execution_count": 120,
   "metadata": {},
   "outputs": [
    {
     "data": {
      "text/plain": [
       "0    김철수\n",
       "4    김이ㅁ\n",
       "dtype: object"
      ]
     },
     "execution_count": 120,
     "metadata": {},
     "output_type": "execute_result"
    }
   ],
   "source": [
    "#sr2[ sr2.str.contains('이')]\n",
    "#sr2[ sr2.str.contains('[김이]이', regex=True)]\n",
    "#sr2[ sr2.str.contains('[가-힣]이', regex=True)]\n",
    "sr2[ sr2.str.contains('^김', regex=True) ]\n"
   ]
  },
  {
   "cell_type": "code",
   "execution_count": 31,
   "metadata": {},
   "outputs": [
    {
     "data": {
      "text/plain": [
       "0      11-22\n",
       "1    111-222\n",
       "2      22-33\n",
       "3    333-444\n",
       "dtype: object"
      ]
     },
     "execution_count": 31,
     "metadata": {},
     "output_type": "execute_result"
    }
   ],
   "source": [
    "sr3 =pd.Series(['11-22','111-222','22-33','333-444'])\n",
    "sr3"
   ]
  },
  {
   "cell_type": "code",
   "execution_count": 32,
   "metadata": {},
   "outputs": [
    {
     "data": {
      "text/plain": [
       "0      11-22\n",
       "1    111-222\n",
       "2      22-33\n",
       "3    333-444\n",
       "dtype: object"
      ]
     },
     "execution_count": 32,
     "metadata": {},
     "output_type": "execute_result"
    }
   ],
   "source": [
    "sr3 [sr3.str.contains( '\\d{2}-\\d{2}', regex=True)] #[0-9] ########################?????????????????????????????????????????\n"
   ]
  },
  {
   "cell_type": "code",
   "execution_count": 122,
   "metadata": {},
   "outputs": [
    {
     "data": {
      "text/plain": [
       "ab    applei\n",
       "dtype: object"
      ]
     },
     "execution_count": 122,
     "metadata": {},
     "output_type": "execute_result"
    }
   ],
   "source": [
    "sr1[ sr1.index.str.contains('a')]"
   ]
  },
  {
   "cell_type": "code",
   "execution_count": null,
   "metadata": {},
   "outputs": [],
   "source": []
  }
 ],
 "metadata": {
  "kernelspec": {
   "display_name": "Python 3",
   "language": "python",
   "name": "python3"
  },
  "language_info": {
   "codemirror_mode": {
    "name": "ipython",
    "version": 3
   },
   "file_extension": ".py",
   "mimetype": "text/x-python",
   "name": "python",
   "nbconvert_exporter": "python",
   "pygments_lexer": "ipython3",
   "version": "3.7.1"
  }
 },
 "nbformat": 4,
 "nbformat_minor": 2
}
