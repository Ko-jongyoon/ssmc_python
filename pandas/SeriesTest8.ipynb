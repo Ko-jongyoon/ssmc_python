{
 "cells": [
  {
   "cell_type": "code",
   "execution_count": 23,
   "metadata": {},
   "outputs": [],
   "source": [
    "import pandas as pd\n",
    "import numpy as np\n",
    "import matplotlib.pyplot as plt     \n",
    "import matplotlib\n",
    "matplotlib.rcParams['font.family']='Malgun Gothic'\n",
    "matplotlib.rcParams['axes.unicode_minus']=False\n",
    "\n"
   ]
  },
  {
   "cell_type": "code",
   "execution_count": 24,
   "metadata": {
    "scrolled": false
   },
   "outputs": [
    {
     "data": {
      "text/plain": [
       "홍길동     70\n",
       "이순신     90\n",
       "임꺽정     55\n",
       "정난정     60\n",
       "이이      76\n",
       "이황      80\n",
       "정도전     76\n",
       "김철수1    88\n",
       "김철수2    30\n",
       "김철수3    25\n",
       "Name: 국어점수, dtype: int64"
      ]
     },
     "execution_count": 24,
     "metadata": {},
     "output_type": "execute_result"
    }
   ],
   "source": [
    "sr=pd.Series([70,90,55,60,76,80,76,88,30,25],name=\"국어점수\")\n",
    "sr.index=['홍길동','이순신','임꺽정','정난정','이이','이황','정도전','김철수1','김철수2','김철수3']\n",
    "sr  "
   ]
  },
  {
   "cell_type": "code",
   "execution_count": 2,
   "metadata": {},
   "outputs": [],
   "source": [
    "%matplotlib inline"
   ]
  },
  {
   "cell_type": "code",
   "execution_count": 40,
   "metadata": {},
   "outputs": [],
   "source": [
    "#sr.plot(kind='bar')# 램 메모리 쪽에차트를 그린다\n",
    "sr.plot(kind='barh')\n",
    "plt.show()    # show 해주면 비디오 메모리로 전송해준다 .. show함수는 램메모리->비디오메모리로 전송해주는 역할  show 해야함!"
   ]
  },
  {
   "cell_type": "markdown",
   "metadata": {},
   "source": [
    "1. 국어점수가 가장 큰 값을 구하시오\n",
    "2. 국어점수가 가장 큰 값의 이름을 구하시오\n",
    "3. 국어점수가 80점이상인 값을 구하시오\n",
    "4. 국어점수가 50점이상 80점 이하인 값을 구하시오\n",
    "5. 이름이 김으로 시작하는 데이터를 구하시오\n",
    "6. 국어점수의 평균을 구하시오\n",
    "7. 국어점수의 총합을 구하시오\n",
    "8. 국어점수의 표준편차를 구하시오\n",
    "9. 국어점수가 40점이하인 데이터를 삭제하시오\n",
    "10. 국어점수가 50점이상인 데이터에 가산점 10%를 부여하시오\n",
    "11. 국어점수 top5 구하시오\n",
    "12. 국어점수가 50점이상인 데이터의 바차트를 그리시오"
   ]
  },
  {
   "cell_type": "code",
   "execution_count": 41,
   "metadata": {},
   "outputs": [
    {
     "data": {
      "text/plain": [
       "90"
      ]
     },
     "execution_count": 41,
     "metadata": {},
     "output_type": "execute_result"
    }
   ],
   "source": [
    "sr.max()"
   ]
  },
  {
   "cell_type": "code",
   "execution_count": 42,
   "metadata": {},
   "outputs": [
    {
     "data": {
      "text/plain": [
       "'이순신'"
      ]
     },
     "execution_count": 42,
     "metadata": {},
     "output_type": "execute_result"
    }
   ],
   "source": [
    "|sr.idxmax() \n",
    "#----------------- max값이 여러개일 경우--------------------\n",
    "#mx.=sr.max() \n",
    "#sr[sr==mx]\n",
    "# sr1 = sr[sr==sr.max()]\n",
    "# for n in sr1.index:\n",
    "#     print(n)"
   ]
  },
  {
   "cell_type": "code",
   "execution_count": 52,
   "metadata": {},
   "outputs": [
    {
     "data": {
      "text/plain": [
       "이순신     90\n",
       "이황      80\n",
       "김철수1    88\n",
       "Name: 국어점수, dtype: int64"
      ]
     },
     "execution_count": 52,
     "metadata": {},
     "output_type": "execute_result"
    }
   ],
   "source": [
    "sr[sr>=80]"
   ]
  },
  {
   "cell_type": "code",
   "execution_count": 44,
   "metadata": {},
   "outputs": [
    {
     "data": {
      "text/plain": [
       "홍길동    70\n",
       "임꺽정    55\n",
       "정난정    60\n",
       "이이     76\n",
       "이황     80\n",
       "정도전    76\n",
       "Name: 국어점수, dtype: int64"
      ]
     },
     "execution_count": 44,
     "metadata": {},
     "output_type": "execute_result"
    }
   ],
   "source": [
    "sr[(sr>=50) & (sr<=80)]"
   ]
  },
  {
   "cell_type": "code",
   "execution_count": 54,
   "metadata": {},
   "outputs": [
    {
     "data": {
      "text/plain": [
       "김철수1    88\n",
       "김철수2    30\n",
       "김철수3    25\n",
       "Name: 국어점수, dtype: int64"
      ]
     },
     "execution_count": 54,
     "metadata": {},
     "output_type": "execute_result"
    }
   ],
   "source": [
    "sr [ sr.index.str.contains('^김') ]"
   ]
  },
  {
   "cell_type": "code",
   "execution_count": 47,
   "metadata": {},
   "outputs": [
    {
     "data": {
      "text/plain": [
       "65.0"
      ]
     },
     "execution_count": 47,
     "metadata": {},
     "output_type": "execute_result"
    }
   ],
   "source": [
    "sr.mean()"
   ]
  },
  {
   "cell_type": "code",
   "execution_count": 48,
   "metadata": {},
   "outputs": [
    {
     "data": {
      "text/plain": [
       "650"
      ]
     },
     "execution_count": 48,
     "metadata": {},
     "output_type": "execute_result"
    }
   ],
   "source": [
    "sr.sum()"
   ]
  },
  {
   "cell_type": "code",
   "execution_count": 49,
   "metadata": {},
   "outputs": [
    {
     "data": {
      "text/plain": [
       "22.59793500890439"
      ]
     },
     "execution_count": 49,
     "metadata": {},
     "output_type": "execute_result"
    }
   ],
   "source": [
    "sr.std()"
   ]
  },
  {
   "cell_type": "code",
   "execution_count": 57,
   "metadata": {},
   "outputs": [
    {
     "data": {
      "text/plain": [
       "홍길동     70\n",
       "이순신     90\n",
       "임꺽정     55\n",
       "정난정     60\n",
       "이이      76\n",
       "이황      80\n",
       "정도전     76\n",
       "김철수1    88\n",
       "Name: 국어점수, dtype: int64"
      ]
     },
     "execution_count": 57,
     "metadata": {},
     "output_type": "execute_result"
    }
   ],
   "source": [
    "sr= sr[~(sr<=40)] #sr [sr>40] 삭제 \n",
    "sr"
   ]
  },
  {
   "cell_type": "code",
   "execution_count": 59,
   "metadata": {},
   "outputs": [
    {
     "data": {
      "text/plain": [
       "홍길동     70\n",
       "이순신     90\n",
       "임꺽정     55\n",
       "정난정     60\n",
       "이이      76\n",
       "이황      80\n",
       "정도전     76\n",
       "김철수1    88\n",
       "Name: 국어점수, dtype: int64"
      ]
     },
     "execution_count": 59,
     "metadata": {},
     "output_type": "execute_result"
    }
   ],
   "source": [
    "sr[sr<=50]=sr[sr<=50]*1.1\n",
    "sr"
   ]
  },
  {
   "cell_type": "code",
   "execution_count": 62,
   "metadata": {},
   "outputs": [
    {
     "data": {
      "text/plain": [
       "이순신     90\n",
       "김철수1    88\n",
       "이황      80\n",
       "정도전     76\n",
       "이이      76\n",
       "Name: 국어점수, dtype: int64"
      ]
     },
     "execution_count": 62,
     "metadata": {},
     "output_type": "execute_result"
    }
   ],
   "source": [
    "sr.sort_values(ascending=False)[:5]"
   ]
  },
  {
   "cell_type": "code",
   "execution_count": 67,
   "metadata": {},
   "outputs": [
    {
     "data": {
      "image/png": "[encoded data removed]",
      "text/plain": [
       "<Figure size 432x288 with 1 Axes>"
      ]
     },
     "metadata": {
      "needs_background": "light"
     },
     "output_type": "display_data"
    }
   ],
   "source": [
    "sr[sr>=50].plot(kind='bar')\n",
    "plt.show()"
   ]
  },
  {
   "cell_type": "code",
   "execution_count": 72,
   "metadata": {},
   "outputs": [],
   "source": [
    "sr.to_excel('a.xlsx')"
   ]
  },
  {
   "cell_type": "code",
   "execution_count": 73,
   "metadata": {},
   "outputs": [
    {
     "data": {
      "text/plain": [
       "76    2\n",
       "30    1\n",
       "60    1\n",
       "90    1\n",
       "25    1\n",
       "88    1\n",
       "55    1\n",
       "70    1\n",
       "80    1\n",
       "Name: 국어점수, dtype: int64"
      ]
     },
     "execution_count": 73,
     "metadata": {},
     "output_type": "execute_result"
    }
   ],
   "source": [
    "sr.value_counts()"
   ]
  },
  {
   "cell_type": "code",
   "execution_count": 76,
   "metadata": {},
   "outputs": [
    {
     "data": {
      "text/plain": [
       "(71.429, 80.714]    3\n",
       "(80.714, 90.0]      2\n",
       "(52.857, 62.143]    2\n",
       "(24.935, 34.286]    2\n",
       "(62.143, 71.429]    1\n",
       "(43.571, 52.857]    0\n",
       "(34.286, 43.571]    0\n",
       "Name: 국어점수, dtype: int64"
      ]
     },
     "execution_count": 76,
     "metadata": {},
     "output_type": "execute_result"
    }
   ],
   "source": [
    "pd.cut(sr,7).value_counts()      # 시리즈 아닌 판다스."
   ]
  },
  {
   "cell_type": "code",
   "execution_count": 77,
   "metadata": {},
   "outputs": [
    {
     "data": {
      "image/png": "[encoded data removed]",
      "text/plain": [
       "<Figure size 432x288 with 1 Axes>"
      ]
     },
     "metadata": {
      "needs_background": "light"
     },
     "output_type": "display_data"
    }
   ],
   "source": [
    "sr.hist(bins=7)\n",
    "plt.show()"
   ]
  },
  {
   "cell_type": "markdown",
   "metadata": {},
   "source": [
    "13. 이름순으로 정렬하시오\n",
    "14. 키보드로 입력받아 검색된 이름의 점수를 구하시오\n",
    "    이름:홍길동\n",
    "    70\n",
    "15. 데이터를 다음과 같이 출력하시오\n",
    "--------------------------\n",
    "      이름    국어\n",
    "      \n",
    "---------------------------\n",
    "      홍길동     70\n",
    "      ...\n",
    "      김철수3    25\n",
    "16. 국어 점수 50점이하는 가산점20을 부여하고\n",
    "    국어 점수 50점초과는 가산점10을 부여하시오\n",
    "17. 국어점수 10%, 50%, 90%에 해당하는 값을 구하시오\n",
    "18. 국어점수를 5개 점수대로 분할한 경우 각 도수를 구하시오\n"
   ]
  },
  {
   "cell_type": "code",
   "execution_count": 83,
   "metadata": {},
   "outputs": [
    {
     "data": {
      "text/plain": [
       "김철수1    88\n",
       "김철수2    30\n",
       "김철수3    25\n",
       "이순신     90\n",
       "이이      76\n",
       "이황      80\n",
       "임꺽정     55\n",
       "정난정     60\n",
       "정도전     76\n",
       "홍길동     70\n",
       "Name: 국어점수, dtype: int64"
      ]
     },
     "execution_count": 83,
     "metadata": {},
     "output_type": "execute_result"
    }
   ],
   "source": [
    "sr.sort_index( ascending =True) #13"
   ]
  },
  {
   "cell_type": "code",
   "execution_count": 6,
   "metadata": {},
   "outputs": [
    {
     "name": "stdout",
     "output_type": "stream",
     "text": [
      "이름:홍길동\n"
     ]
    },
    {
     "data": {
      "text/plain": [
       "홍길동    70\n",
       "Name: 국어점수, dtype: int64"
      ]
     },
     "execution_count": 6,
     "metadata": {},
     "output_type": "execute_result"
    }
   ],
   "source": [
    "a=input(\"이름:\")        #14\n",
    "#sr[a]\n",
    "sr [sr.index==a]"
   ]
  },
  {
   "cell_type": "code",
   "execution_count": 8,
   "metadata": {},
   "outputs": [
    {
     "name": "stdout",
     "output_type": "stream",
     "text": [
      "====================\n",
      "이름\t국어\n",
      "====================\n",
      "홍길동\t70\n",
      "이순신\t90\n",
      "임꺽정\t55\n",
      "정난정\t60\n",
      "이이\t76\n",
      "이황\t80\n",
      "정도전\t76\n",
      "김철수1\t88\n",
      "김철수2\t30\n",
      "김철수3\t25\n"
     ]
    }
   ],
   "source": [
    "#sr['홍길동':'김철수3'] #15\n",
    "print('='*20)\n",
    "print('이름\\t국어')\n",
    "print('='*20)\n",
    "for n,v in sr.items():\n",
    "    print('%s\\t%d' % (n,v))"
   ]
  },
  {
   "cell_type": "code",
   "execution_count": 10,
   "metadata": {},
   "outputs": [
    {
     "data": {
      "text/plain": [
       "홍길동     77.0\n",
       "이순신     99.0\n",
       "임꺽정     60.5\n",
       "정난정     66.0\n",
       "이이      83.6\n",
       "이황      88.0\n",
       "정도전     83.6\n",
       "김철수1    96.8\n",
       "김철수2    36.0\n",
       "김철수3    30.0\n",
       "Name: 국어점수, dtype: float64"
      ]
     },
     "execution_count": 10,
     "metadata": {},
     "output_type": "execute_result"
    }
   ],
   "source": [
    "#sr[sr<=50]=sr[sr<=50]*1.2 #16\n",
    "#sr[sr>50]=sr[sr>50]*1.1\n",
    "#sr\n",
    "\n",
    "sr.apply(lambda n: n*1.1 if n>50 else n*1.2)\n",
    "\n"
   ]
  },
  {
   "cell_type": "code",
   "execution_count": 17,
   "metadata": {},
   "outputs": [
    {
     "data": {
      "text/plain": [
       "홍길동      84.0\n",
       "이순신     117.0\n",
       "임꺽정      66.0\n",
       "정난정      72.0\n",
       "이이       98.8\n",
       "이황      104.0\n",
       "정도전      98.8\n",
       "김철수1    114.4\n",
       "김철수2     33.0\n",
       "김철수3     27.5\n",
       "Name: 국어점수, dtype: float64"
      ]
     },
     "execution_count": 17,
     "metadata": {},
     "output_type": "execute_result"
    }
   ],
   "source": [
    "def fn(n):\n",
    "    if n<=30:\n",
    "        return n*1.1\n",
    "        \n",
    "    elif 30<n<=70:\n",
    "        return n*1.2\n",
    "    else:\n",
    "        return n*1.3\n",
    "sr.apply( fn )"
   ]
  },
  {
   "cell_type": "code",
   "execution_count": 128,
   "metadata": {},
   "outputs": [
    {
     "data": {
      "text/plain": [
       "0.1    35.40\n",
       "0.5    80.30\n",
       "0.9    97.02\n",
       "Name: 국어점수, dtype: float64"
      ]
     },
     "execution_count": 128,
     "metadata": {},
     "output_type": "execute_result"
    }
   ],
   "source": [
    " sr.quantile([0.1,0.5,0.9])#17"
   ]
  },
  {
   "cell_type": "code",
   "execution_count": 27,
   "metadata": {},
   "outputs": [
    {
     "data": {
      "text/plain": [
       "(77.0, 90.0]      3\n",
       "(64.0, 77.0]      3\n",
       "(51.0, 64.0]      2\n",
       "(24.935, 38.0]    2\n",
       "(38.0, 51.0]      0\n",
       "Name: 국어점수, dtype: int64"
      ]
     },
     "execution_count": 27,
     "metadata": {},
     "output_type": "execute_result"
    }
   ],
   "source": [
    "pd.cut(sr,5).value_counts()\n"
   ]
  },
  {
   "cell_type": "code",
   "execution_count": null,
   "metadata": {},
   "outputs": [],
   "source": []
  }
 ],
 "metadata": {
  "kernelspec": {
   "display_name": "Python 3",
   "language": "python",
   "name": "python3"
  },
  "language_info": {
   "codemirror_mode": {
    "name": "ipython",
    "version": 3
   },
   "file_extension": ".py",
   "mimetype": "text/x-python",
   "name": "python",
   "nbconvert_exporter": "python",
   "pygments_lexer": "ipython3",
   "version": "3.7.1"
  }
 },
 "nbformat": 4,
 "nbformat_minor": 2
}
