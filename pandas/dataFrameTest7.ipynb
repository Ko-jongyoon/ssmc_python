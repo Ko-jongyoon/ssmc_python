{
 "cells": [
  {
   "cell_type": "code",
   "execution_count": null,
   "metadata": {},
   "outputs": [],
   "source": [
    "import pandas as pd\n",
    "import numpy as np"
   ]
  },
  {
   "cell_type": "code",
   "execution_count": null,
   "metadata": {},
   "outputs": [],
   "source": [
    "df.to_excel('./grade.xlsx')"
   ]
  },
  {
   "cell_type": "code",
   "execution_count": null,
   "metadata": {},
   "outputs": [],
   "source": [
    "df1=pd.read_excel('grade.xlsx')\n",
    "df1"
   ]
  },
  {
   "cell_type": "code",
   "execution_count": null,
   "metadata": {},
   "outputs": [],
   "source": [
    "df = pd.read_table('births.txt',sep=',',index_col=0, header=None)\n",
    "df.columns=['남아수','여아수']\n",
    "df.index.name=\"년도\"\n",
    "df.head()"
   ]
  },
  {
   "cell_type": "markdown",
   "metadata": {},
   "source": [
    "SSMC 연습문제\n",
    "\n",
    "1. 남아수 총합을 구하시오.\n",
    "2. 여아수 평균을 구하시오.\n",
    "3. 남아수가 가장 많은 년도와 남아수를 구하시오\n",
    "4. 2000년도 이후 데이터를 구하시오\n",
    "5. 1995~2000년도 데이터를 구하시오\n",
    "6. 남아 출생이 가장 많은 top5를 구하시오(년도와 남아수)\n",
    "7. 남아율(%) 컬럼을 추가하고 남아수가 차지하는 비율을 보여주시오 예, 50, 70 등\n",
    "8. 2000년도 이후 데이터에 대해 남아수 출생량 컬럼을 추가하고 1,800,000 이상이면 많음, 아니면 적음이라고 보여주시오.\n",
    "9. 1800년대, 1900년대, 2000년대 각 남아수, 여아수 평균을 구하시오\n",
    "10. "
   ]
  },
  {
   "cell_type": "code",
   "execution_count": null,
   "metadata": {},
   "outputs": [],
   "source": [
    "df['남아수'].sum()            #1"
   ]
  },
  {
   "cell_type": "code",
   "execution_count": null,
   "metadata": {},
   "outputs": [],
   "source": [
    "df['여아수'].mean()           #2"
   ]
  },
  {
   "cell_type": "code",
   "execution_count": null,
   "metadata": {},
   "outputs": [],
   "source": [
    "#df['남아수'].idxmax(), df['남아수'].max()          #3\n",
    "df[df['남아수']==df['남아수'].max()]['남아수']"
   ]
  },
  {
   "cell_type": "code",
   "execution_count": null,
   "metadata": {},
   "outputs": [],
   "source": [
    "df.loc['2000':]               #4"
   ]
  },
  {
   "cell_type": "code",
   "execution_count": null,
   "metadata": {
    "scrolled": true
   },
   "outputs": [],
   "source": [
    "df.loc['1995':'2000']              #5"
   ]
  },
  {
   "cell_type": "code",
   "execution_count": null,
   "metadata": {
    "scrolled": true
   },
   "outputs": [],
   "source": [
    "df.sort_values(by='남아수', ascending=False)[:5]['남아수'] #6"
   ]
  },
  {
   "cell_type": "code",
   "execution_count": null,
   "metadata": {},
   "outputs": [],
   "source": [
    "df2=df\n",
    "df2['남아율'] = df2['남아수']/df2.sum(axis=1)                #7\n",
    "df2"
   ]
  },
  {
   "cell_type": "code",
   "execution_count": null,
   "metadata": {
    "scrolled": true
   },
   "outputs": [],
   "source": [
    "# 8. 2000년도 이후 데이터에 대해 남아수 출생량 컬럼을 추가하고 1,800,000 이상이면 많음, 아니면 적음이라고 보여주시오.\n",
    "df3 = df.loc['2000':]\n",
    "df3['출생량'] = df3['남아수'].apply(lambda n: '많음' if n >= 1800000 else '적음')\n",
    "df3[['남아수', '출생량']]"
   ]
  },
  {
   "cell_type": "code",
   "execution_count": null,
   "metadata": {},
   "outputs": [],
   "source": [
    "# 9. 1800년대, 1900년대, 2000년대 각 남아수, 여아수 평균을 구하시오\n",
    "df4 = [ df.loc['1800':'1899'].mean(), df.loc['1900':'1999'].mean(), df.loc['2000':].mean() ]\n",
    "df4 = pd.DataFrame(df4, index=['1800년대', '1900년대', '2000년대'])\n",
    "df4=df4[['남아수', '여아수']]\n",
    "df4"
   ]
  },
  {
   "cell_type": "code",
   "execution_count": null,
   "metadata": {},
   "outputs": [],
   "source": [
    "                        "
   ]
  }
 ],
 "metadata": {
  "kernelspec": {
   "display_name": "Python 3",
   "language": "python",
   "name": "python3"
  },
  "language_info": {
   "codemirror_mode": {
    "name": "ipython",
    "version": 3
   },
   "file_extension": ".py",
   "mimetype": "text/x-python",
   "name": "python",
   "nbconvert_exporter": "python",
   "pygments_lexer": "ipython3",
   "version": "3.7.1"
  }
 },
 "nbformat": 4,
 "nbformat_minor": 2
}
